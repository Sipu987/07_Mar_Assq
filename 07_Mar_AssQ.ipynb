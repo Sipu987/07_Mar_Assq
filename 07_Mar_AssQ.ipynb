{
 "cells": [
  {
   "cell_type": "code",
   "execution_count": 1,
   "id": "13012914",
   "metadata": {},
   "outputs": [],
   "source": [
    "# Ans.1 - Three measures of central tendency are Mean, Median, Mode"
   ]
  },
  {
   "cell_type": "code",
   "execution_count": 2,
   "id": "ad126fe6",
   "metadata": {},
   "outputs": [],
   "source": [
    "# Ans.2 - Mean is the average of the data set. Median is the middle number of the datat set. Mode is\n",
    "# the highest number of occurance or, frequency of number. \n",
    "\n",
    "# Normal distributed data has mean, median and mode are equal. For right skewed data mean is greater than \n",
    "# median, is greater than mode. For left skewed data, Mode is greater than Median,is greater than mean. "
   ]
  },
  {
   "cell_type": "code",
   "execution_count": 3,
   "id": "430bdd15",
   "metadata": {},
   "outputs": [],
   "source": [
    "#Ans.3 -\n",
    "x = [178,177,176,177,178.2,178,175,179,180,175,178.9,176.2,177,172.5,178,176.5]"
   ]
  },
  {
   "cell_type": "code",
   "execution_count": 4,
   "id": "943d5e52",
   "metadata": {},
   "outputs": [],
   "source": [
    "import numpy as np"
   ]
  },
  {
   "cell_type": "code",
   "execution_count": 5,
   "id": "a3ac6e11",
   "metadata": {},
   "outputs": [
    {
     "data": {
      "text/plain": [
       "177.01875"
      ]
     },
     "execution_count": 5,
     "metadata": {},
     "output_type": "execute_result"
    }
   ],
   "source": [
    "np.mean(x)"
   ]
  },
  {
   "cell_type": "code",
   "execution_count": 6,
   "id": "0642f54a",
   "metadata": {},
   "outputs": [
    {
     "data": {
      "text/plain": [
       "177.0"
      ]
     },
     "execution_count": 6,
     "metadata": {},
     "output_type": "execute_result"
    }
   ],
   "source": [
    "np.median(x)"
   ]
  },
  {
   "cell_type": "code",
   "execution_count": 11,
   "id": "234c93f8",
   "metadata": {},
   "outputs": [],
   "source": [
    "from scipy import stats"
   ]
  },
  {
   "cell_type": "code",
   "execution_count": 12,
   "id": "728d784f",
   "metadata": {},
   "outputs": [
    {
     "data": {
      "text/plain": [
       "ModeResult(mode=array([177.]), count=array([3]))"
      ]
     },
     "execution_count": 12,
     "metadata": {},
     "output_type": "execute_result"
    }
   ],
   "source": [
    "stats.mode(x)"
   ]
  },
  {
   "cell_type": "code",
   "execution_count": 13,
   "id": "e8afc104",
   "metadata": {},
   "outputs": [
    {
     "data": {
      "text/plain": [
       "1.7885814036548633"
      ]
     },
     "execution_count": 13,
     "metadata": {},
     "output_type": "execute_result"
    }
   ],
   "source": [
    "#Ans.4 -\n",
    "np.std(x)"
   ]
  },
  {
   "cell_type": "code",
   "execution_count": 18,
   "id": "36148dc4",
   "metadata": {},
   "outputs": [
    {
     "data": {
      "text/plain": [
       "3.199023437500001"
      ]
     },
     "execution_count": 18,
     "metadata": {},
     "output_type": "execute_result"
    }
   ],
   "source": [
    "#Ans.5 - Range is the difference of highet and lowest number of data set. Variance is the average \n",
    "# distance each data is from mean. Standard deviation is the square root of varance.\n",
    "var = np.var(x)\n",
    "var"
   ]
  },
  {
   "cell_type": "code",
   "execution_count": 21,
   "id": "4a605ef6",
   "metadata": {},
   "outputs": [
    {
     "data": {
      "text/plain": [
       "1.7885814036548633"
      ]
     },
     "execution_count": 21,
     "metadata": {},
     "output_type": "execute_result"
    }
   ],
   "source": [
    "std = np.sqrt(var)\n",
    "std"
   ]
  },
  {
   "cell_type": "code",
   "execution_count": 22,
   "id": "64a66c99",
   "metadata": {},
   "outputs": [
    {
     "data": {
      "text/plain": [
       "1.7885814036548633"
      ]
     },
     "execution_count": 22,
     "metadata": {},
     "output_type": "execute_result"
    }
   ],
   "source": [
    "np.std(x)"
   ]
  },
  {
   "cell_type": "code",
   "execution_count": 27,
   "id": "2eb4fbe3",
   "metadata": {},
   "outputs": [
    {
     "data": {
      "text/plain": [
       "7.5"
      ]
     },
     "execution_count": 27,
     "metadata": {},
     "output_type": "execute_result"
    }
   ],
   "source": [
    "range = np.max(x) - np.min(x)\n",
    "range"
   ]
  },
  {
   "cell_type": "code",
   "execution_count": 28,
   "id": "9a6aa47b",
   "metadata": {},
   "outputs": [],
   "source": [
    "# Ans.6 -  Venn diagram is the reprentation of data set in circle inside square barket."
   ]
  },
  {
   "cell_type": "code",
   "execution_count": 30,
   "id": "a9b73425",
   "metadata": {},
   "outputs": [],
   "source": [
    "# Ans.7 -\n",
    "A = (2,3,4,5,6,7)\n",
    "B = (0,2,6,8,10)"
   ]
  },
  {
   "cell_type": "code",
   "execution_count": 34,
   "id": "156f5dd3",
   "metadata": {},
   "outputs": [
    {
     "data": {
      "text/plain": [
       "array([2, 6])"
      ]
     },
     "execution_count": 34,
     "metadata": {},
     "output_type": "execute_result"
    }
   ],
   "source": [
    "# A Intersection B is (2,6)\n",
    "np.intersect1d(A,B)"
   ]
  },
  {
   "cell_type": "code",
   "execution_count": 33,
   "id": "cbb17b70",
   "metadata": {},
   "outputs": [
    {
     "data": {
      "text/plain": [
       "array([ 0,  2,  3,  4,  5,  6,  7,  8, 10])"
      ]
     },
     "execution_count": 33,
     "metadata": {},
     "output_type": "execute_result"
    }
   ],
   "source": [
    "# A union B is (0,2,3,4,5,6,7,8,10)\n",
    "np.union1d(A,B)"
   ]
  },
  {
   "cell_type": "code",
   "execution_count": 36,
   "id": "1fd4eba1",
   "metadata": {},
   "outputs": [],
   "source": [
    "#Ans 8 - Skewness is the asymmetry of probability of data distribution. On normal distribution skewness\n",
    "# is at centre. Right skewed and Left Skewed data set. It provide direction how to data is distributed\n",
    "# on data set."
   ]
  },
  {
   "cell_type": "code",
   "execution_count": 37,
   "id": "b247492f",
   "metadata": {},
   "outputs": [],
   "source": [
    "#Ans.9 -Right skewed data set.. mean is greater than median."
   ]
  },
  {
   "cell_type": "code",
   "execution_count": 1,
   "id": "cccc3434",
   "metadata": {},
   "outputs": [],
   "source": [
    "#Ans.10 - Covariance indicates how two indepandent variable changes with respect to each other. However\n",
    "# correlation indicates how two variables related to each other. \n",
    "# corelation (x,y) = covariance(x,y)/ standard dev(x)*std dev(y).\n",
    "# cov(x,y) = (x - x(mean))*(y - y(mean))/n\n",
    "# covariance values varies from minus infinity to plus infinity.\n",
    "# Correlation values varies from -1 to 1."
   ]
  },
  {
   "cell_type": "code",
   "execution_count": 3,
   "id": "3f67d541",
   "metadata": {},
   "outputs": [],
   "source": [
    "# Ans.11. Sample mean is total sum of elements in sample number divided by number elements in that smaple.\n",
    "# Ex - Total students in school is 100. We have taken sample of 10 students whose weight are\n",
    "# weight = {51,61,71,39,49,59,50,60,70,80}\n",
    "# smaple mean = sum of element in weight/ no of elements\n",
    "#              = 59                "
   ]
  },
  {
   "cell_type": "code",
   "execution_count": 4,
   "id": "b6e6c197",
   "metadata": {},
   "outputs": [],
   "source": [
    "#Ans.12. Central tendency falls on same line for normal distribution. Mean = Mode = Median"
   ]
  },
  {
   "cell_type": "code",
   "execution_count": 5,
   "id": "ba17cae7",
   "metadata": {},
   "outputs": [],
   "source": [
    "#Ans.13. covariance reveals how two variables varies with one another. Correlation reveals how two or\n",
    "# more variable are related to each other, measures the relation ship.\n",
    "# correlation varies between -1 to 1. Covariance varies from -infinity to +infinity.\n",
    "# covariance only 2 variables used. Correlation 2 or more variables used."
   ]
  },
  {
   "cell_type": "code",
   "execution_count": null,
   "id": "0be7e40a",
   "metadata": {},
   "outputs": [],
   "source": [
    "#Ans.14. Ouliers has an significant effect on central tendency. Mean does not provide accurate value.\n",
    "# Median has a little impact, but mode provides more accurate values in case of central tendency. Dispersion\n",
    "# affects measurely due to outliers. Because range increases in data set.\n",
    "# Ex - x = {10,20,15,15,90}\n",
    "# mean x = 30\n",
    "# median x = 15\n",
    "# mode x = 15\n",
    "\n",
    "# Dispersion = 90 -10 = 80"
   ]
  }
 ],
 "metadata": {
  "kernelspec": {
   "display_name": "Python 3",
   "language": "python",
   "name": "python3"
  },
  "language_info": {
   "codemirror_mode": {
    "name": "ipython",
    "version": 3
   },
   "file_extension": ".py",
   "mimetype": "text/x-python",
   "name": "python",
   "nbconvert_exporter": "python",
   "pygments_lexer": "ipython3",
   "version": "3.8.8"
  }
 },
 "nbformat": 4,
 "nbformat_minor": 5
}
